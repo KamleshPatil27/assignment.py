{
  "nbformat": 4,
  "nbformat_minor": 0,
  "metadata": {
    "colab": {
      "name": "Py Assignment No 1",
      "provenance": [],
      "collapsed_sections": []
    },
    "kernelspec": {
      "name": "python3",
      "display_name": "Python 3"
    },
    "language_info": {
      "name": "python"
    }
  },
  "cells": [
    {
      "cell_type": "code",
      "metadata": {
        "colab": {
          "base_uri": "https://localhost:8080/"
        },
        "id": "dfXEhuLpXvyx",
        "outputId": "3b03e063-db80-4b0d-87a3-6fa760940a3f"
      },
      "source": [
        "# Expamle 1\n",
        "# Wap to print the Hi-Tech string in reverse order.\n",
        "x = \"Hi-Tech\"\n",
        "print(x[6],x[5],x[4],x[3],x[2],x[1],x[0])"
      ],
      "execution_count": null,
      "outputs": [
        {
          "output_type": "stream",
          "name": "stdout",
          "text": [
            "h c e T - i H\n"
          ]
        }
      ]
    },
    {
      "cell_type": "code",
      "metadata": {
        "colab": {
          "base_uri": "https://localhost:8080/"
        },
        "id": "RoSnETGBYI3E",
        "outputId": "ece02cce-ac59-427d-91c7-58881a8548e5"
      },
      "source": [
        "# Exapmle 2\n",
        "# Wap to compute perimeter and area of rectangle with height of 7 inch & width of 5 inch\n",
        "height = 7\n",
        "width = 5\n",
        "print(\"{} is value of height \".format(height))\n",
        "print(\"{} is value of width  \".format(width))\n",
        "per = 2 * (height + width)\n",
        "print(\"Perimeter of rectangle is =\",per)\n",
        "area = height * width\n",
        "print(\"Area of Retangle is =\",area)"
      ],
      "execution_count": null,
      "outputs": [
        {
          "output_type": "stream",
          "name": "stdout",
          "text": [
            "7 is value of height \n",
            "5 is value of width  \n",
            "Perimeter of rectangle is = 24\n",
            "Area of Retangle is = 35\n"
          ]
        }
      ]
    },
    {
      "cell_type": "code",
      "metadata": {
        "colab": {
          "base_uri": "https://localhost:8080/"
        },
        "id": "wYU1nLxdZe2s",
        "outputId": "6d33cfb2-642d-411b-897b-f7ab8861bec9"
      },
      "source": [
        "# Expample 3\n",
        "# Wap to input days and convert it into years weeks and days.\n",
        "days = int(input(\"Enter the days = \"))\n",
        "year = days/365\n",
        "month = days/30\n",
        "weeks = days/7\n",
        "print(\"Days to Months\",month)\n",
        "print(\"Days to Week\",weeks)\n",
        "print(\"Days to Year\",year)"
      ],
      "execution_count": null,
      "outputs": [
        {
          "output_type": "stream",
          "name": "stdout",
          "text": [
            "Enter the days = 84\n",
            "Days to Months 2.8\n",
            "Days to Week 12.0\n",
            "Days to Year 0.23013698630136986\n"
          ]
        }
      ]
    },
    {
      "cell_type": "code",
      "metadata": {
        "colab": {
          "base_uri": "https://localhost:8080/"
        },
        "id": "YVk9N4tcb8Yp",
        "outputId": "73043468-f5e5-408e-f4ec-0b3288798288"
      },
      "source": [
        "# Example 4\n",
        "# Wap to input two items weight and number of purchase and calculate the average value of items \n",
        "item_1 = int(input('Enter the number of item 1 = '))\n",
        "item_2 = int(input('Enter the number of item 2 = '))\n",
        "\n",
        "total = item_1 + item_2\n",
        "per = 2\n",
        "ans = total/per\n",
        "print('The avergae value of items =',ans)\n"
      ],
      "execution_count": null,
      "outputs": [
        {
          "output_type": "stream",
          "name": "stdout",
          "text": [
            "Enter the number of item 1 = 22\n",
            "Enter the number of item 2 = 37\n",
            "The avergae value of items = 29.5\n"
          ]
        }
      ]
    },
    {
      "cell_type": "code",
      "metadata": {
        "colab": {
          "base_uri": "https://localhost:8080/"
        },
        "id": "F5kIj8KTduX-",
        "outputId": "87979354-76e1-4aaa-fce5-e3974b8c3639"
      },
      "source": [
        "3# Exapmle 5\n",
        "# Wap to input 4 digit number and print the revers of it.\n",
        "a = int(input(\"Enter the 4 digit value= \"))\n",
        "x = str(a)\n",
        "print(x[::-1])"
      ],
      "execution_count": 16,
      "outputs": [
        {
          "output_type": "stream",
          "name": "stdout",
          "text": [
            "Enter the 4 digit value= 1234\n",
            "4321\n"
          ]
        }
      ]
    }
  ]
}